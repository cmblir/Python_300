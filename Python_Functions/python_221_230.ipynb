{
 "cells": [
  {
   "cell_type": "code",
   "execution_count": 2,
   "metadata": {},
   "outputs": [
    {
     "name": "stdout",
     "output_type": "stream",
     "text": [
      "nohtyp\n"
     ]
    }
   ],
   "source": [
    "# 221\n",
    "def print_reverse(a):\n",
    "    print(a[::-1])\n",
    "\n",
    "print_reverse(\"python\")"
   ]
  },
  {
   "cell_type": "code",
   "execution_count": 3,
   "metadata": {},
   "outputs": [
    {
     "name": "stdout",
     "output_type": "stream",
     "text": [
      "2.0\n"
     ]
    }
   ],
   "source": [
    "# 222\n",
    "def print_score(a):\n",
    "    result = 0\n",
    "    for i in a:\n",
    "        result += i\n",
    "    print(result / len(a))\n",
    "\n",
    "print_score ([1, 2, 3])"
   ]
  },
  {
   "cell_type": "code",
   "execution_count": 4,
   "metadata": {},
   "outputs": [
    {
     "name": "stdout",
     "output_type": "stream",
     "text": [
      "2.0\n"
     ]
    }
   ],
   "source": [
    "def print_score(a):\n",
    "    print(sum(a) / len(a))\n",
    "\n",
    "\n",
    "print_score([1, 2, 3])\n"
   ]
  },
  {
   "cell_type": "code",
   "execution_count": 5,
   "metadata": {},
   "outputs": [
    {
     "name": "stdout",
     "output_type": "stream",
     "text": [
      "2\n",
      "10\n",
      "12\n"
     ]
    }
   ],
   "source": [
    "# 223\n",
    "def print_even(a):\n",
    "    for i in a:\n",
    "        if i % 2 == 0:\n",
    "            print(i)\n",
    "\n",
    "print_even ([1, 3, 2, 10, 12, 11, 15])"
   ]
  },
  {
   "cell_type": "code",
   "execution_count": 6,
   "metadata": {},
   "outputs": [
    {
     "name": "stdout",
     "output_type": "stream",
     "text": [
      "이름\n",
      "나이\n",
      "성별\n"
     ]
    }
   ],
   "source": [
    "# 224\n",
    "def print_keys(a):\n",
    "    for i in a.keys():\n",
    "        print(i)\n",
    "\n",
    "print_keys ({\"이름\":\"김말똥\", \"나이\":30, \"성별\":0})"
   ]
  },
  {
   "cell_type": "code",
   "execution_count": 23,
   "metadata": {},
   "outputs": [
    {
     "name": "stdout",
     "output_type": "stream",
     "text": [
      "ERROR! Not in dict\n"
     ]
    }
   ],
   "source": [
    "# 225\n",
    "my_dict = {\"10/26\" : [100, 130, 100, 100],\n",
    "           \"10/27\" : [10, 12, 10, 11]}\n",
    "\n",
    "def print_value_by_key(a, b):\n",
    "    if b in a.keys():\n",
    "        print(a[b])\n",
    "    else:\n",
    "        print(\"ERROR! Not in dict\")\n",
    "\n",
    "\n",
    "print_value_by_key(my_dict, \"10/28\")"
   ]
  },
  {
   "cell_type": "code",
   "execution_count": 28,
   "metadata": {},
   "outputs": [
    {
     "name": "stdout",
     "output_type": "stream",
     "text": [
      "암영맨암영\n",
      "맨그대여따\n",
      "라다다오늘\n",
      "도오늘도그\n",
      "대만\n"
     ]
    }
   ],
   "source": [
    "# 226\n",
    "def print_5xn(string):\n",
    "    for i in range(0, len(string) + 1, 5):\n",
    "        print(string[i:i + 5])\n",
    "\n",
    "\n",
    "print_5xn(\"암영맨암영맨그대여따라다다오늘도오늘도그대만\")\n"
   ]
  },
  {
   "cell_type": "code",
   "execution_count": 27,
   "metadata": {},
   "outputs": [
    {
     "name": "stdout",
     "output_type": "stream",
     "text": [
      "암영맨암영\n",
      "맨그대여따\n",
      "라다다오늘\n",
      "도오늘도그\n",
      "대만\n"
     ]
    }
   ],
   "source": [
    "def print_5xn(line):\n",
    "    num = int(len(line) / 5)\n",
    "    for i in range(num + 1):\n",
    "        print(line[i * 5: i * 5 + 5])\n",
    "\n",
    "\n",
    "print_5xn(\"암영맨암영맨그대여따라다다오늘도오늘도그대만\")\n"
   ]
  },
  {
   "cell_type": "code",
   "execution_count": 29,
   "metadata": {},
   "outputs": [
    {
     "name": "stdout",
     "output_type": "stream",
     "text": [
      "아이엠\n",
      "어보이\n",
      "유알어\n",
      "걸\n"
     ]
    }
   ],
   "source": [
    "# 227\n",
    "def print_mxn(string, num):\n",
    "    for i in range(0, len(string) + 1, num):\n",
    "        print(string[i : i + num])\n",
    "\n",
    "print_mxn(\"아이엠어보이유알어걸\", 3)"
   ]
  },
  {
   "cell_type": "code",
   "execution_count": 32,
   "metadata": {},
   "outputs": [
    {
     "data": {
      "text/plain": [
       "1000000.0"
      ]
     },
     "execution_count": 32,
     "metadata": {},
     "output_type": "execute_result"
    }
   ],
   "source": [
    "# 228\n",
    "def calc_monthly_salary(annual_salary):\n",
    "    salary = int(annual_salary) / 12\n",
    "    return salary\n",
    "\n",
    "calc_monthly_salary(12000000)"
   ]
  },
  {
   "cell_type": "code",
   "execution_count": 33,
   "metadata": {},
   "outputs": [
    {
     "name": "stdout",
     "output_type": "stream",
     "text": [
      "왼쪽: 100\n",
      "오른쪽: 200\n"
     ]
    }
   ],
   "source": [
    "# 229\n",
    "def my_print(a, b):\n",
    "    print(\"왼쪽:\", a)\n",
    "    print(\"오른쪽:\", b)\n",
    "\n",
    "\n",
    "my_print(a=100, b=200)\n"
   ]
  },
  {
   "cell_type": "code",
   "execution_count": 34,
   "metadata": {},
   "outputs": [
    {
     "name": "stdout",
     "output_type": "stream",
     "text": [
      "왼쪽: 200\n",
      "오른쪽: 100\n"
     ]
    }
   ],
   "source": [
    "def my_print(a, b):\n",
    "    print(\"왼쪽:\", a)\n",
    "    print(\"오른쪽:\", b)\n",
    "\n",
    "\n",
    "my_print(b=100, a=200)\n"
   ]
  }
 ],
 "metadata": {
  "interpreter": {
   "hash": "140e2487a71dd6d3a73614b9d35c76344653e3c5810ec9ac32aeaf27cfb518b0"
  },
  "kernelspec": {
   "display_name": "Python 3.8.12 ('s1n1')",
   "language": "python",
   "name": "python3"
  },
  "language_info": {
   "codemirror_mode": {
    "name": "ipython",
    "version": 3
   },
   "file_extension": ".py",
   "mimetype": "text/x-python",
   "name": "python",
   "nbconvert_exporter": "python",
   "pygments_lexer": "ipython3",
   "version": "3.8.12"
  },
  "orig_nbformat": 4
 },
 "nbformat": 4,
 "nbformat_minor": 2
}
