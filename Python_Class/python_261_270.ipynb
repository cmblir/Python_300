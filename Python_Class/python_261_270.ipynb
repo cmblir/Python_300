{
 "cells": [
  {
   "cell_type": "code",
   "execution_count": 45,
   "metadata": {},
   "outputs": [],
   "source": [
    "# 261\n",
    "class Stock:\n",
    "    pass"
   ]
  },
  {
   "cell_type": "code",
   "execution_count": 46,
   "metadata": {},
   "outputs": [
    {
     "name": "stdout",
     "output_type": "stream",
     "text": [
      "삼성\n",
      "005930\n"
     ]
    }
   ],
   "source": [
    "# 262\n",
    "class Stock:\n",
    "    def __init__(self, company, num):\n",
    "        self.company = company\n",
    "        self.num = num\n",
    "\n",
    "samsung = Stock(\"삼성\", \"005930\")\n",
    "print(samsung.company)\n",
    "print(samsung.num)"
   ]
  },
  {
   "cell_type": "code",
   "execution_count": 47,
   "metadata": {},
   "outputs": [
    {
     "name": "stdout",
     "output_type": "stream",
     "text": [
      "삼성\n"
     ]
    }
   ],
   "source": [
    "# 263\n",
    "class Stock:\n",
    "    def __init__(self, company, num):\n",
    "        self.company = company\n",
    "        self.num = num\n",
    "    \n",
    "    def set_name(self, name):\n",
    "        self.name = name\n",
    "\n",
    "\n",
    "a = Stock(None, None)\n",
    "a.set_name(\"삼성\")\n",
    "print(a.name)"
   ]
  },
  {
   "cell_type": "code",
   "execution_count": 48,
   "metadata": {},
   "outputs": [
    {
     "name": "stdout",
     "output_type": "stream",
     "text": [
      "005930\n"
     ]
    }
   ],
   "source": [
    "# 264\n",
    "class Stock:\n",
    "    def __init__(self, company, num):\n",
    "        self.company = company\n",
    "        self.num = num\n",
    "    \n",
    "    def set_name(self, name):\n",
    "        self.name = name\n",
    "    \n",
    "    def set_code(self, code):\n",
    "        self.code = code\n",
    "\n",
    "a = Stock(None, None)\n",
    "a.set_code(\"005930\")\n",
    "print(a.code)"
   ]
  },
  {
   "cell_type": "code",
   "execution_count": 49,
   "metadata": {},
   "outputs": [
    {
     "name": "stdout",
     "output_type": "stream",
     "text": [
      "삼성\n",
      "005930\n"
     ]
    }
   ],
   "source": [
    "# 265\n",
    "class Stock:\n",
    "    def __init__(self, name, code):\n",
    "        self.name = name\n",
    "        self.code = code\n",
    "\n",
    "    def set_name(self, name):\n",
    "        self.name = name\n",
    "\n",
    "    def set_code(self, code):\n",
    "        self.code = code\n",
    "\n",
    "    def get_name(self):\n",
    "        return self.name\n",
    "    \n",
    "    def get_code(self):\n",
    "        return self.code\n",
    "\n",
    "samsung = Stock(\"삼성\", \"005930\")\n",
    "\n",
    "print(samsung.get_name())\n",
    "print(samsung.get_code())"
   ]
  },
  {
   "cell_type": "code",
   "execution_count": 50,
   "metadata": {},
   "outputs": [],
   "source": [
    "# 266\n",
    "class Stock:\n",
    "    def __init__(self, name, code, PER, PBR, DY):\n",
    "        self.name = name\n",
    "        self.code = code\n",
    "        self.PER = float(PER)\n",
    "        self.PBR = float(PBR)\n",
    "        self.DY = float(DY)\n",
    "\n",
    "    def set_name(self, name):\n",
    "        self.name = name\n",
    "\n",
    "    def set_code(self, code):\n",
    "        self.code = code\n",
    "\n",
    "    def get_name(self):\n",
    "        return self.name\n",
    "\n",
    "    def get_code(self):\n",
    "        return self.code\n"
   ]
  },
  {
   "cell_type": "code",
   "execution_count": 51,
   "metadata": {},
   "outputs": [
    {
     "name": "stdout",
     "output_type": "stream",
     "text": [
      "2.83\n"
     ]
    }
   ],
   "source": [
    "# 267\n",
    "class Stock:\n",
    "    def __init__(self, name, code, PER, PBR, DY):\n",
    "        self.name = name\n",
    "        self.code = code\n",
    "        self.PER = float(PER)\n",
    "        self.PBR = float(PBR)\n",
    "        self.DY = float(DY)\n",
    "\n",
    "    def set_name(self, name):\n",
    "        self.name = name\n",
    "\n",
    "    def set_code(self, code):\n",
    "        self.code = code\n",
    "\n",
    "    def get_name(self):\n",
    "        return self.name\n",
    "\n",
    "    def get_code(self):\n",
    "        return self.code\n",
    "\n",
    "samsung = Stock(\"삼성\", \"005930\", 15.79, 1.33, 2.83)\n",
    "print(samsung.DY)"
   ]
  },
  {
   "cell_type": "code",
   "execution_count": 52,
   "metadata": {},
   "outputs": [
    {
     "name": "stdout",
     "output_type": "stream",
     "text": [
      "4.12\n"
     ]
    }
   ],
   "source": [
    "# 268\n",
    "class Stock:\n",
    "    def __init__(self, name, code, PER, PBR, DY):\n",
    "        self.name = name\n",
    "        self.code = code\n",
    "        self.PER = float(PER)\n",
    "        self.PBR = float(PBR)\n",
    "        self.DY = float(DY)\n",
    "\n",
    "    def set_name(self, name):\n",
    "        self.name = name\n",
    "\n",
    "    def set_code(self, code):\n",
    "        self.code = code\n",
    "\n",
    "    def set_per(self, PER):\n",
    "        self.PER = PER\n",
    "\n",
    "    def set_pbr(self, PBR):\n",
    "        self.PBR = PBR\n",
    "\n",
    "    def set_dy(self, DY):\n",
    "        self.DY = DY\n",
    "\n",
    "    def get_name(self):\n",
    "        return self.name\n",
    "\n",
    "    def get_code(self):\n",
    "        return self.code\n",
    "\n",
    "samsung = Stock(\"삼성\", \"005930\", 15.79, 1.33, 2.83)\n",
    "samsung.set_dy(4.12)\n",
    "print(samsung.DY)"
   ]
  },
  {
   "cell_type": "code",
   "execution_count": 53,
   "metadata": {},
   "outputs": [
    {
     "name": "stdout",
     "output_type": "stream",
     "text": [
      "12.75\n"
     ]
    }
   ],
   "source": [
    "# 269\n",
    "class Stock:\n",
    "    def __init__(self, name, code, PER, PBR, DY):\n",
    "        self.name = name\n",
    "        self.code = code\n",
    "        self.PER = float(PER)\n",
    "        self.PBR = float(PBR)\n",
    "        self.DY = float(DY)\n",
    "\n",
    "    def set_name(self, name):\n",
    "        self.name = name\n",
    "\n",
    "    def set_code(self, code):\n",
    "        self.code = code\n",
    "\n",
    "    def set_per(self, PER):\n",
    "        self.PER = PER\n",
    "\n",
    "    def set_pbr(self, PBR):\n",
    "        self.PBR = PBR\n",
    "\n",
    "    def set_dy(self, DY):\n",
    "        self.DY = DY\n",
    "\n",
    "    def get_name(self):\n",
    "        return self.name\n",
    "\n",
    "    def get_code(self):\n",
    "        return self.code\n",
    "\n",
    "\n",
    "samsung = Stock(\"삼성\", \"005930\", 15.79, 1.33, 2.83)\n",
    "samsung.set_per(12.75)\n",
    "print(samsung.PER)"
   ]
  },
  {
   "cell_type": "code",
   "execution_count": 54,
   "metadata": {},
   "outputs": [
    {
     "name": "stdout",
     "output_type": "stream",
     "text": [
      "005930 15.79\n",
      "005380 8.7\n",
      "066570 317.34\n"
     ]
    }
   ],
   "source": [
    "# 270\n",
    "class Stock:\n",
    "    def __init__(self, name, code, PER, PBR, DY):\n",
    "        self.name = name\n",
    "        self.code = code\n",
    "        self.PER = float(PER)\n",
    "        self.PBR = float(PBR)\n",
    "        self.DY = float(DY)\n",
    "\n",
    "    def set_name(self, name):\n",
    "        self.name = name\n",
    "\n",
    "    def set_code(self, code):\n",
    "        self.code = code\n",
    "\n",
    "    def set_per(self, PER):\n",
    "        self.PER = PER\n",
    "\n",
    "    def set_pbr(self, PBR):\n",
    "        self.PBR = PBR\n",
    "\n",
    "    def set_dy(self, DY):\n",
    "        self.DY = DY\n",
    "\n",
    "    def get_name(self):\n",
    "        return self.name\n",
    "\n",
    "    def get_code(self):\n",
    "        return self.code\n",
    "\n",
    "\n",
    "\n",
    "lst = []\n",
    "\n",
    "samsung = Stock(\"삼성\", \"005930\", 15.79, 1.33, 2.83)\n",
    "hyundai = Stock(\"현대\", \"005380\", 8.70, 0.35, 4.27)\n",
    "lg = Stock(\"LG\", \"066570\", 317.34, 0.69, 1.37)\n",
    "\n",
    "lst.append(samsung)\n",
    "lst.append(hyundai)\n",
    "lst.append(lg)\n",
    "\n",
    "for i in lst:\n",
    "    print(i.code, i.PER)"
   ]
  }
 ],
 "metadata": {
  "interpreter": {
   "hash": "140e2487a71dd6d3a73614b9d35c76344653e3c5810ec9ac32aeaf27cfb518b0"
  },
  "kernelspec": {
   "display_name": "Python 3.8.12 ('s1n1')",
   "language": "python",
   "name": "python3"
  },
  "language_info": {
   "codemirror_mode": {
    "name": "ipython",
    "version": 3
   },
   "file_extension": ".py",
   "mimetype": "text/x-python",
   "name": "python",
   "nbconvert_exporter": "python",
   "pygments_lexer": "ipython3",
   "version": "3.8.12"
  },
  "orig_nbformat": 4
 },
 "nbformat": 4,
 "nbformat_minor": 2
}
