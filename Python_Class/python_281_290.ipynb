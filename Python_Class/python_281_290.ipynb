{
 "cells": [
  {
   "cell_type": "code",
   "execution_count": 5,
   "metadata": {},
   "outputs": [
    {
     "name": "stdout",
     "output_type": "stream",
     "text": [
      "2\n",
      "1000\n"
     ]
    }
   ],
   "source": [
    "# 281\n",
    "class Car:\n",
    "    def __init__(self, wheel, price):\n",
    "        self.wheel = wheel\n",
    "        self.price = price\n",
    "\n",
    "car = Car(2, 1000)\n",
    "print(car.wheel)\n",
    "print(car.price)\n"
   ]
  },
  {
   "cell_type": "code",
   "execution_count": 9,
   "metadata": {},
   "outputs": [],
   "source": [
    "# 282\n",
    "class Car:\n",
    "    def __init__(self, wheel, price):\n",
    "        self.wheel = wheel\n",
    "        self.price = price\n",
    "\n",
    "class Bicycle(Car):\n",
    "    pass"
   ]
  },
  {
   "cell_type": "code",
   "execution_count": 16,
   "metadata": {},
   "outputs": [
    {
     "data": {
      "text/plain": [
       "100"
      ]
     },
     "execution_count": 16,
     "metadata": {},
     "output_type": "execute_result"
    }
   ],
   "source": [
    "# 283\n",
    "class Car:\n",
    "    def __init__(self, wheel, price):\n",
    "        self.wheel = wheel\n",
    "        self.price = price\n",
    "\n",
    "\n",
    "class Bicycle(Car):\n",
    "    pass\n",
    "\n",
    "bicycle = Bicycle(2, 100)\n",
    "bicycle.price"
   ]
  },
  {
   "cell_type": "code",
   "execution_count": 15,
   "metadata": {},
   "outputs": [
    {
     "data": {
      "text/plain": [
       "'시마노'"
      ]
     },
     "execution_count": 15,
     "metadata": {},
     "output_type": "execute_result"
    }
   ],
   "source": [
    "# 284\n",
    "class Car:\n",
    "    def __init__(self, wheel, price):\n",
    "        self.wheel = wheel\n",
    "        self.price = price\n",
    "\n",
    "class Bicycle(Car):\n",
    "    def __init__(self, wheel, price, engine):\n",
    "        super().__init__(wheel, price)\n",
    "        self.engine = engine\n",
    "\n",
    "bicycle = Bicycle(2, 100, \"시마노\")\n",
    "bicycle.engine"
   ]
  },
  {
   "cell_type": "code",
   "execution_count": 25,
   "metadata": {},
   "outputs": [
    {
     "name": "stdout",
     "output_type": "stream",
     "text": [
      "바퀴수 4\n",
      "가격 1000\n"
     ]
    }
   ],
   "source": [
    "# 285\n",
    "class Car:\n",
    "    def __init__(self, wheel, price):\n",
    "        self.wheel = wheel\n",
    "        self.price = price\n",
    "\n",
    "class Automobile(Car):\n",
    "    def __init__(self, wheel, price):\n",
    "        super().__init__(wheel, price)\n",
    "\n",
    "    def info(self):\n",
    "        print(f\"바퀴수 {self.wheel}\")\n",
    "        print(f\"가격 {self.price}\")\n",
    "\n",
    "car = Automobile(4, 1000)\n",
    "car.info()"
   ]
  },
  {
   "cell_type": "code",
   "execution_count": 26,
   "metadata": {},
   "outputs": [
    {
     "name": "stdout",
     "output_type": "stream",
     "text": [
      "바퀴수 2\n",
      "가격 1000\n"
     ]
    }
   ],
   "source": [
    "# 286\n",
    "class Car:\n",
    "    def __init__(self, wheel, price):\n",
    "        self.wheel = wheel\n",
    "        self.price = price\n",
    "\n",
    "\n",
    "class Automobile(Car):\n",
    "    def __init__(self, wheel, price):\n",
    "        super().__init__(wheel, price)\n",
    "\n",
    "    def info(self):\n",
    "        print(f\"바퀴수 {self.wheel}\")\n",
    "        print(f\"가격 {self.price}\")\n",
    "        \n",
    "class Bicycle(Car):\n",
    "    def __init__(self, wheel, price, engine):\n",
    "        super().__init__(wheel, price)\n",
    "        self.engine = engine\n",
    "\n",
    "    def info(self):\n",
    "        print(f\"바퀴수 {self.wheel}\")\n",
    "        print(f\"가격 {self.price}\")\n",
    "\n",
    "car = Bicycle(2, 1000, \"시마노\")\n",
    "car.info()\n"
   ]
  },
  {
   "cell_type": "code",
   "execution_count": 28,
   "metadata": {},
   "outputs": [
    {
     "name": "stdout",
     "output_type": "stream",
     "text": [
      "바퀴수 2\n",
      "가격 1000\n",
      "엔진 시마노\n"
     ]
    }
   ],
   "source": [
    "# 287\n",
    "class Car:\n",
    "    def __init__(self, wheel, price):\n",
    "        self.wheel = wheel\n",
    "        self.price = price\n",
    "\n",
    "\n",
    "class Automobile(Car):\n",
    "    def __init__(self, wheel, price):\n",
    "        super().__init__(wheel, price)\n",
    "\n",
    "    def info(self):\n",
    "        print(f\"바퀴수 {self.wheel}\")\n",
    "        print(f\"가격 {self.price}\")\n",
    "\n",
    "\n",
    "class Bicycle(Car):\n",
    "    def __init__(self, wheel, price, engine):\n",
    "        super().__init__(wheel, price)\n",
    "        self.engine = engine\n",
    "\n",
    "    def info(self):\n",
    "        print(f\"바퀴수 {self.wheel}\")\n",
    "        print(f\"가격 {self.price}\")\n",
    "        print(f\"엔진 {self.engine}\")\n",
    "\n",
    "\n",
    "car = Bicycle(2, 1000, \"시마노\")\n",
    "car.info()\n"
   ]
  },
  {
   "cell_type": "code",
   "execution_count": 35,
   "metadata": {},
   "outputs": [
    {
     "name": "stdout",
     "output_type": "stream",
     "text": [
      "자식 호출\n"
     ]
    }
   ],
   "source": [
    "# 288\n",
    "class parent:\n",
    "    def call(self):\n",
    "        print(\"부모 호출\")\n",
    "\n",
    "class son(parent):\n",
    "    def call(self):\n",
    "        print(\"자식 호출\")\n",
    "\n",
    "me = son()\n",
    "me.call()"
   ]
  },
  {
   "cell_type": "code",
   "execution_count": 41,
   "metadata": {},
   "outputs": [
    {
     "name": "stdout",
     "output_type": "stream",
     "text": [
      "자식 셍성\n"
     ]
    }
   ],
   "source": [
    "# 289\n",
    "class parent:\n",
    "    def __init__(self):\n",
    "        print(\"부모 생성\")\n",
    "\n",
    "class son(parent):\n",
    "    def __init__(self):\n",
    "        print(\"자식 셍성\")\n",
    "\n",
    "me = son()"
   ]
  },
  {
   "cell_type": "code",
   "execution_count": 43,
   "metadata": {},
   "outputs": [
    {
     "name": "stdout",
     "output_type": "stream",
     "text": [
      "자식 셍성\n",
      "부모 생성\n"
     ]
    }
   ],
   "source": [
    "# 290\n",
    "class parent:\n",
    "    def __init__(self):\n",
    "        print(\"부모 생성\")\n",
    "\n",
    "\n",
    "class son(parent):\n",
    "    def __init__(self):\n",
    "        print(\"자식 셍성\")\n",
    "        super().__init__()\n",
    "\n",
    "\n",
    "me = son()"
   ]
  }
 ],
 "metadata": {
  "interpreter": {
   "hash": "140e2487a71dd6d3a73614b9d35c76344653e3c5810ec9ac32aeaf27cfb518b0"
  },
  "kernelspec": {
   "display_name": "Python 3.8.12 ('s1n1')",
   "language": "python",
   "name": "python3"
  },
  "language_info": {
   "codemirror_mode": {
    "name": "ipython",
    "version": 3
   },
   "file_extension": ".py",
   "mimetype": "text/x-python",
   "name": "python",
   "nbconvert_exporter": "python",
   "pygments_lexer": "ipython3",
   "version": "3.8.12"
  },
  "orig_nbformat": 4
 },
 "nbformat": 4,
 "nbformat_minor": 2
}
