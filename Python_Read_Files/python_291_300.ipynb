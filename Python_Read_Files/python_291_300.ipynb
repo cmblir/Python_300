{
 "cells": [
  {
   "cell_type": "code",
   "execution_count": 5,
   "metadata": {},
   "outputs": [],
   "source": [
    "# 291\n",
    "f = open('Purchased1.txt', mode='wt', encoding='utf-8')\n",
    "w = f.write\n",
    "w(\"005930\\n\")\n",
    "w(\"005380\\n\")\n",
    "w(\"035420\")\n",
    "f.close()\n"
   ]
  },
  {
   "cell_type": "code",
   "execution_count": 8,
   "metadata": {},
   "outputs": [],
   "source": [
    "# 292\n",
    "f = open('Purchased2.txt', mode='wt', encoding='utf-8')\n",
    "w = f.write\n",
    "w(\"005930 삼성전자\\n\")\n",
    "w(\"005380 현대차\\n\")\n",
    "w(\"035420 NAVER\\n\")\n",
    "f.close()\n"
   ]
  },
  {
   "cell_type": "code",
   "execution_count": 13,
   "metadata": {},
   "outputs": [],
   "source": [
    "# 293\n",
    "import csv\n",
    "\n",
    "f = open('Purchased.csv', mode='w', encoding='cp949')\n",
    "w = csv.writer(f)\n",
    "w.writerow([\"종목명\", \"종목코드\", \"PER\"])\n",
    "w.writerow([\"삼성전자\", \"005930\", 15.59])\n",
    "w.writerow([\"NAVER\", \"035420\", 55.82])\n",
    "f.close()\n"
   ]
  },
  {
   "cell_type": "code",
   "execution_count": 26,
   "metadata": {},
   "outputs": [
    {
     "name": "stdout",
     "output_type": "stream",
     "text": [
      "['005930', '005380', '035420']\n"
     ]
    }
   ],
   "source": [
    "# 294\n",
    "f = open('Purchased1.txt', mode='rt', encoding='utf-8')\n",
    "lines = f.readlines()\n",
    "\n",
    "lst = []\n",
    "for i in lines:\n",
    "    code = i.strip()\n",
    "    lst.append(code)\n",
    "\n",
    "print(lst)\n",
    "\n",
    "f.close()\n"
   ]
  },
  {
   "cell_type": "code",
   "execution_count": 36,
   "metadata": {},
   "outputs": [
    {
     "name": "stdout",
     "output_type": "stream",
     "text": [
      "{'005930': '삼성전자', '005380': '현대차', '035420': 'NAVER'}\n"
     ]
    }
   ],
   "source": [
    "# 295\n",
    "f = open('Purchased2.txt', mode='rt', encoding='utf-8')\n",
    "lines = f.readlines()\n",
    "data = {}\n",
    "for i in lines:\n",
    "    k, v = i.strip().split(\" \")\n",
    "    data[k] = v\n",
    "print(data)"
   ]
  },
  {
   "cell_type": "code",
   "execution_count": 39,
   "metadata": {},
   "outputs": [
    {
     "name": "stdout",
     "output_type": "stream",
     "text": [
      "10.31\n",
      "0\n",
      "8.0\n"
     ]
    }
   ],
   "source": [
    "# 296\n",
    "per = [\"10.31\", \"\", \"8.00\"]\n",
    "\n",
    "for i in per:\n",
    "    try:\n",
    "        print(float(i))\n",
    "    except:\n",
    "        print(0)\n"
   ]
  },
  {
   "cell_type": "code",
   "execution_count": 44,
   "metadata": {},
   "outputs": [
    {
     "name": "stdout",
     "output_type": "stream",
     "text": [
      "[10.31, 0, 8.0]\n"
     ]
    }
   ],
   "source": [
    "# 297\n",
    "per = [\"10.31\", \"\", \"8.00\"]\n",
    "\n",
    "lst = []\n",
    "for i in per:\n",
    "    try:\n",
    "        v = float(i)\n",
    "    except:\n",
    "        v = 0\n",
    "    lst.append(v)\n",
    "\n",
    "print(lst)\n"
   ]
  },
  {
   "cell_type": "code",
   "execution_count": 54,
   "metadata": {},
   "outputs": [
    {
     "name": "stdout",
     "output_type": "stream",
     "text": [
      "0으로 나누면 안됩니다.\n"
     ]
    }
   ],
   "source": [
    "# 298\n",
    "try:\n",
    "    b = int(input(\"분자: \")) / int(input(\"분모: \"))\n",
    "    print(b)\n",
    "except ZeroDivisionError:\n",
    "    print(\"0으로 나누면 안됩니다.\")"
   ]
  },
  {
   "cell_type": "code",
   "execution_count": 57,
   "metadata": {},
   "outputs": [
    {
     "name": "stdout",
     "output_type": "stream",
     "text": [
      "1\n",
      "2\n",
      "3\n",
      "list index out of range\n",
      "list index out of range\n"
     ]
    }
   ],
   "source": [
    "# 299\n",
    "data = [1, 2, 3]\n",
    "for i in range(5):\n",
    "    try:\n",
    "        print(data[i])\n",
    "    except IndexError as e:\n",
    "        print(e)"
   ]
  },
  {
   "cell_type": "code",
   "execution_count": 64,
   "metadata": {},
   "outputs": [
    {
     "name": "stdout",
     "output_type": "stream",
     "text": [
      "float() argument must be a string or a number, not 'list'\n",
      "해당 코드의 에러 메시지입니다.\n",
      "float() argument must be a string or a number, not 'list'\n",
      "해당 코드의 에러 메시지입니다.\n",
      "float() argument must be a string or a number, not 'list'\n",
      "해당 코드의 에러 메시지입니다.\n"
     ]
    }
   ],
   "source": [
    "# 300\n",
    "per = [\"10.31\", \"\", \"8.00\"]\n",
    "for i in per:\n",
    "    try:\n",
    "        print(float(per))\n",
    "    except TypeError as t:\n",
    "        print(t)\n",
    "    else:\n",
    "        print(\"코드가 정상입니다.\")\n",
    "    finally:\n",
    "        print(\"해당 코드의 에러 메시지입니다.\")"
   ]
  }
 ],
 "metadata": {
  "interpreter": {
   "hash": "140e2487a71dd6d3a73614b9d35c76344653e3c5810ec9ac32aeaf27cfb518b0"
  },
  "kernelspec": {
   "display_name": "Python 3.8.12 ('s1n1')",
   "language": "python",
   "name": "python3"
  },
  "language_info": {
   "codemirror_mode": {
    "name": "ipython",
    "version": 3
   },
   "file_extension": ".py",
   "mimetype": "text/x-python",
   "name": "python",
   "nbconvert_exporter": "python",
   "pygments_lexer": "ipython3",
   "version": "3.8.12"
  },
  "orig_nbformat": 4
 },
 "nbformat": 4,
 "nbformat_minor": 2
}
